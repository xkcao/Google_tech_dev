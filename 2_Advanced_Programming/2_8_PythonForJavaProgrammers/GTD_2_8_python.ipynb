{
 "cells": [
  {
   "cell_type": "code",
   "execution_count": 1,
   "metadata": {},
   "outputs": [
    {
     "name": "stdout",
     "output_type": "stream",
     "text": [
      "hello world!\n"
     ]
    }
   ],
   "source": [
    "print(\"hello world!\")"
   ]
  },
  {
   "cell_type": "code",
   "execution_count": 8,
   "metadata": {},
   "outputs": [
    {
     "name": "stdout",
     "output_type": "stream",
     "text": [
      "The total =  210\n"
     ]
    }
   ],
   "source": [
    "total = 0\n",
    "i = 0\n",
    "while i <= 20:\n",
    "    total = total + i\n",
    "    i = i + 1\n",
    "\n",
    "print(\"The total = \", total)"
   ]
  },
  {
   "cell_type": "code",
   "execution_count": 10,
   "metadata": {},
   "outputs": [
    {
     "data": {
      "text/plain": [
       "32"
      ]
     },
     "execution_count": 10,
     "metadata": {},
     "output_type": "execute_result"
    }
   ],
   "source": [
    "expoential5 = 2**5\n",
    "expoential5"
   ]
  },
  {
   "cell_type": "code",
   "execution_count": 14,
   "metadata": {},
   "outputs": [
    {
     "name": "stdout",
     "output_type": "stream",
     "text": [
      "The sum of the first 100 integers is 5050\n"
     ]
    }
   ],
   "source": [
    "# summation.py\n",
    "# Compute the sum of the first 100 integer values and print\n",
    "# the results.\n",
    "\n",
    "# Initialize a constant variable.\n",
    "NUM_VALUES = 100\n",
    "\n",
    "# Compute the sum.\n",
    "summation = 0\n",
    "i = 1\n",
    "while i <= NUM_VALUES:\n",
    "   summation = summation + i\n",
    "   i = i + 1\n",
    "\n",
    "# Print the results.\n",
    "print(\"The sum of the first\", NUM_VALUES,\"integers is\", summation)"
   ]
  },
  {
   "cell_type": "code",
   "execution_count": 20,
   "metadata": {},
   "outputs": [
    {
     "name": "stdout",
     "output_type": "stream",
     "text": [
      "Enter a value: 13\n",
      "The square root of  13  is  3.605551275463989\n"
     ]
    }
   ],
   "source": [
    "#sqroot.py\n",
    "#Compute the square root of a postive value entered by the\n",
    "#user. The extracted value is examined to make sure it is\n",
    "#positive. If not, the absolute value is first computed.\n",
    "\n",
    "import math\n",
    "\n",
    "# Extract a value from the user.\n",
    "value = int( input( \"Enter a value: \" ) )\n",
    "\n",
    "# Determine if it's negative. If so, make it positive.\n",
    "if value < 0 :\n",
    "   print(\"The value is negative. Converting to positive.\")\n",
    "   value = abs( value )\n",
    "\n",
    "# Compute the square root of the number.\n",
    "sqroot = math.sqrt( value )\n",
    "\n",
    "# Print the results.\n",
    "print(\"The square root of \", value, \" is \", sqroot)"
   ]
  },
  {
   "cell_type": "code",
   "execution_count": 22,
   "metadata": {},
   "outputs": [
    {
     "name": "stdout",
     "output_type": "stream",
     "text": [
      "Enter value one: 124\n",
      "Enter value two: 234\n",
      "Enter value three: 324\n",
      "The smallest value of the three is  124\n"
     ]
    }
   ],
   "source": [
    "#minofthree.py\n",
    "#Extracts three integer values from the user and then\n",
    "#determines the smallest of the three.\n",
    "\n",
    "#Extract the three values.\n",
    "num1 = int( input( \"Enter value one: \" ))\n",
    "num2 = int( input( \"Enter value two: \" ))\n",
    "num3 = int( input( \"Enter value three: \" ))\n",
    "\n",
    "#Determine the smallest of the three with nested ifs.\n",
    "if num1 < num2 :\n",
    "   if num1 < num3 :\n",
    "      smallest = num1\n",
    "   else:\n",
    "      smallest = num3\n",
    "else:\n",
    "   if num2 < num3 :\n",
    "      smallest = num2\n",
    "   else:\n",
    "      smallest = num3\n",
    "     \n",
    "#Print the results.\n",
    "print(\"The smallest value of the three is \", smallest)"
   ]
  },
  {
   "cell_type": "code",
   "execution_count": 24,
   "metadata": {},
   "outputs": [
    {
     "name": "stdout",
     "output_type": "stream",
     "text": [
      "Smith, John\n"
     ]
    }
   ],
   "source": [
    "name1 = \"Smith, John\";\n",
    "name2 = \"Smith, Jane\";\n",
    "if \"Smith\" in name1 :\n",
    "   print(name1)"
   ]
  },
  {
   "cell_type": "code",
   "execution_count": 25,
   "metadata": {},
   "outputs": [
    {
     "name": "stdout",
     "output_type": "stream",
     "text": [
      "Enter an integer value (< 0 to quit): 34\n",
      "Enter an integer value (< 0 to quit): 78\n",
      "Enter an integer value (< 0 to quit): 70\n",
      "Enter an integer value (< 0 to quit): 45\n",
      "Enter an integer value (< 0 to quit): 67\n",
      "Enter an integer value (< 0 to quit): -9\n",
      "The average of the 5 values you entered is 58.8\n"
     ]
    }
   ],
   "source": [
    "# avgvalue.py\n",
    "# Reads a group of positive integer values from the user,\n",
    "# one at a time, until a negative value is entered. The average\n",
    "# value is then computed and displayed.\n",
    "\n",
    "# Initlize the counting variables.\n",
    "total = 0\n",
    "count = 0\n",
    "\n",
    "# Extract the values.\n",
    "value = int( input( \"Enter an integer value (< 0 to quit): \" ) )\n",
    "while value >= 0 :\n",
    "   total = total + value\n",
    "   count = count + 1\n",
    "   value = int( input( \"Enter an integer value (< 0 to quit): \" ) )\n",
    "   \n",
    "# Compute the average.\n",
    "avg = float( total ) / count\n",
    "\n",
    "# Print the results.\n",
    "print(\"The average of the\", count, \"values you entered is\", avg)"
   ]
  }
 ],
 "metadata": {
  "kernelspec": {
   "display_name": "Python 3",
   "language": "python",
   "name": "python3"
  },
  "language_info": {
   "codemirror_mode": {
    "name": "ipython",
    "version": 3
   },
   "file_extension": ".py",
   "mimetype": "text/x-python",
   "name": "python",
   "nbconvert_exporter": "python",
   "pygments_lexer": "ipython3",
   "version": "3.7.3"
  }
 },
 "nbformat": 4,
 "nbformat_minor": 2
}
